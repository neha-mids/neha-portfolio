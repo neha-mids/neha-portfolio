{
 "cells": [
  {
   "cell_type": "markdown",
   "metadata": {},
   "source": [
    "# Acknowledgements\n",
    "The preprocessing steps and data format were informed by the resource: https://mccormickml.com/2019/07/22/BERT-fine-tuning/#3-tokenization--input-formatting"
   ]
  },
  {
   "cell_type": "code",
   "execution_count": 12,
   "metadata": {},
   "outputs": [],
   "source": [
    "# First Import Libraries\n",
    "\n",
    "import glob, os    \n",
    "import pandas as pd\n",
    "import numpy as np\n",
    "import nltk\n",
    "from nltk import tokenize\n",
    "import matplotlib.pyplot as plt\n",
    "import math\n",
    "from sklearn.utils import shuffle"
   ]
  },
  {
   "cell_type": "code",
   "execution_count": 2,
   "metadata": {},
   "outputs": [],
   "source": [
    "# Read in and concatenate all L3 files. L3 files were manually collected, about 15 per side of each topic\n",
    "# This method was used in lieu of a scraper to ensure high quality in the data\n",
    "# Since this is training on the actual classification task, we are prioritizing quality of data over quantity\n",
    "# Ensure all L3 files are saved as <issue_name>_L3.csv\n",
    "\n",
    "L3_raw = pd.concat(map(pd.read_csv, glob.glob(os.path.join('', \"*L3.csv\"))))"
   ]
  },
  {
   "cell_type": "code",
   "execution_count": 3,
   "metadata": {},
   "outputs": [
    {
     "data": {
      "text/html": [
       "<div>\n",
       "<style scoped>\n",
       "    .dataframe tbody tr th:only-of-type {\n",
       "        vertical-align: middle;\n",
       "    }\n",
       "\n",
       "    .dataframe tbody tr th {\n",
       "        vertical-align: top;\n",
       "    }\n",
       "\n",
       "    .dataframe thead th {\n",
       "        text-align: right;\n",
       "    }\n",
       "</style>\n",
       "<table border=\"1\" class=\"dataframe\">\n",
       "  <thead>\n",
       "    <tr style=\"text-align: right;\">\n",
       "      <th></th>\n",
       "      <th>url</th>\n",
       "      <th>text</th>\n",
       "      <th>category</th>\n",
       "    </tr>\n",
       "  </thead>\n",
       "  <tbody>\n",
       "    <tr>\n",
       "      <th>0</th>\n",
       "      <td>https://iwpr.org/publications/economic-effects...</td>\n",
       "      <td>The Economic Effects of Abortion Access: A Rev...</td>\n",
       "      <td>pro-choice</td>\n",
       "    </tr>\n",
       "    <tr>\n",
       "      <th>1</th>\n",
       "      <td>https://www.huffpost.com/entry/how-legal-abort...</td>\n",
       "      <td>How Legal Abortion Helps American Families\\nLe...</td>\n",
       "      <td>pro-choice</td>\n",
       "    </tr>\n",
       "    <tr>\n",
       "      <th>2</th>\n",
       "      <td>https://www.amnesty.org/en/latest/news/2018/08...</td>\n",
       "      <td>The legalization of abortion will benefit thou...</td>\n",
       "      <td>pro-choice</td>\n",
       "    </tr>\n",
       "    <tr>\n",
       "      <th>3</th>\n",
       "      <td>https://www.washingtonpost.com/outlook/2019/05...</td>\n",
       "      <td>Legal abortion saves lives\\nAgain and again, h...</td>\n",
       "      <td>pro-choice</td>\n",
       "    </tr>\n",
       "    <tr>\n",
       "      <th>4</th>\n",
       "      <td>https://www.scholarshippoints.com/campuslife/3...</td>\n",
       "      <td>Being pro-choice or pro-life is something that...</td>\n",
       "      <td>pro-choice</td>\n",
       "    </tr>\n",
       "  </tbody>\n",
       "</table>\n",
       "</div>"
      ],
      "text/plain": [
       "                                                 url  \\\n",
       "0  https://iwpr.org/publications/economic-effects...   \n",
       "1  https://www.huffpost.com/entry/how-legal-abort...   \n",
       "2  https://www.amnesty.org/en/latest/news/2018/08...   \n",
       "3  https://www.washingtonpost.com/outlook/2019/05...   \n",
       "4  https://www.scholarshippoints.com/campuslife/3...   \n",
       "\n",
       "                                                text    category  \n",
       "0  The Economic Effects of Abortion Access: A Rev...  pro-choice  \n",
       "1  How Legal Abortion Helps American Families\\nLe...  pro-choice  \n",
       "2  The legalization of abortion will benefit thou...  pro-choice  \n",
       "3  Legal abortion saves lives\\nAgain and again, h...  pro-choice  \n",
       "4  Being pro-choice or pro-life is something that...  pro-choice  "
      ]
     },
     "execution_count": 3,
     "metadata": {},
     "output_type": "execute_result"
    }
   ],
   "source": [
    "# View first 5 rows\n",
    "\n",
    "L3_raw.head()"
   ]
  },
  {
   "cell_type": "code",
   "execution_count": 5,
   "metadata": {},
   "outputs": [
    {
     "data": {
      "text/plain": [
       "array(['pro-choice', 'pro-immigration', 'pro-guns', 'anti-spending',\n",
       "       'anti-immigration', 'oppose-medicare', 'pro-life', 'pro-free',\n",
       "       'pro-medicare', 'tax-wealthy', 'anti-tax-wealthy', 'anti-guns',\n",
       "       'anti-free', 'pro-spending'], dtype=object)"
      ]
     },
     "execution_count": 5,
     "metadata": {},
     "output_type": "execute_result"
    }
   ],
   "source": [
    "# Look at all the categories to ensure we read in all files\n",
    "L3_raw.category.unique()"
   ]
  },
  {
   "cell_type": "code",
   "execution_count": 7,
   "metadata": {},
   "outputs": [],
   "source": [
    "# Create a copy that will be our final processed dataframe\n",
    "L3_sent = L3_raw.copy()"
   ]
  },
  {
   "cell_type": "code",
   "execution_count": 8,
   "metadata": {},
   "outputs": [],
   "source": [
    "# Split into individual sentences using the NLTK library\n",
    "# This mazkes each article a list of sentences. After this step we need to break out each element, or sentence, in the list into its own row\n",
    "\n",
    "L3_sent['text'] = L3_sent['text'].apply(lambda x: tokenize.sent_tokenize(x))"
   ]
  },
  {
   "cell_type": "code",
   "execution_count": 9,
   "metadata": {},
   "outputs": [
    {
     "data": {
      "text/html": [
       "<div>\n",
       "<style scoped>\n",
       "    .dataframe tbody tr th:only-of-type {\n",
       "        vertical-align: middle;\n",
       "    }\n",
       "\n",
       "    .dataframe tbody tr th {\n",
       "        vertical-align: top;\n",
       "    }\n",
       "\n",
       "    .dataframe thead th {\n",
       "        text-align: right;\n",
       "    }\n",
       "</style>\n",
       "<table border=\"1\" class=\"dataframe\">\n",
       "  <thead>\n",
       "    <tr style=\"text-align: right;\">\n",
       "      <th></th>\n",
       "      <th>url</th>\n",
       "      <th>text</th>\n",
       "      <th>category</th>\n",
       "    </tr>\n",
       "  </thead>\n",
       "  <tbody>\n",
       "    <tr>\n",
       "      <th>0</th>\n",
       "      <td>https://iwpr.org/publications/economic-effects...</td>\n",
       "      <td>[The Economic Effects of Abortion Access: A Re...</td>\n",
       "      <td>pro-choice</td>\n",
       "    </tr>\n",
       "    <tr>\n",
       "      <th>1</th>\n",
       "      <td>https://www.huffpost.com/entry/how-legal-abort...</td>\n",
       "      <td>[How Legal Abortion Helps American Families\\nL...</td>\n",
       "      <td>pro-choice</td>\n",
       "    </tr>\n",
       "    <tr>\n",
       "      <th>2</th>\n",
       "      <td>https://www.amnesty.org/en/latest/news/2018/08...</td>\n",
       "      <td>[The legalization of abortion will benefit tho...</td>\n",
       "      <td>pro-choice</td>\n",
       "    </tr>\n",
       "    <tr>\n",
       "      <th>3</th>\n",
       "      <td>https://www.washingtonpost.com/outlook/2019/05...</td>\n",
       "      <td>[Legal abortion saves lives\\nAgain and again, ...</td>\n",
       "      <td>pro-choice</td>\n",
       "    </tr>\n",
       "    <tr>\n",
       "      <th>4</th>\n",
       "      <td>https://www.scholarshippoints.com/campuslife/3...</td>\n",
       "      <td>[Being pro-choice or pro-life is something tha...</td>\n",
       "      <td>pro-choice</td>\n",
       "    </tr>\n",
       "  </tbody>\n",
       "</table>\n",
       "</div>"
      ],
      "text/plain": [
       "                                                 url  \\\n",
       "0  https://iwpr.org/publications/economic-effects...   \n",
       "1  https://www.huffpost.com/entry/how-legal-abort...   \n",
       "2  https://www.amnesty.org/en/latest/news/2018/08...   \n",
       "3  https://www.washingtonpost.com/outlook/2019/05...   \n",
       "4  https://www.scholarshippoints.com/campuslife/3...   \n",
       "\n",
       "                                                text    category  \n",
       "0  [The Economic Effects of Abortion Access: A Re...  pro-choice  \n",
       "1  [How Legal Abortion Helps American Families\\nL...  pro-choice  \n",
       "2  [The legalization of abortion will benefit tho...  pro-choice  \n",
       "3  [Legal abortion saves lives\\nAgain and again, ...  pro-choice  \n",
       "4  [Being pro-choice or pro-life is something tha...  pro-choice  "
      ]
     },
     "execution_count": 9,
     "metadata": {},
     "output_type": "execute_result"
    }
   ],
   "source": [
    "# View output\n",
    "L3_sent.head()"
   ]
  },
  {
   "cell_type": "code",
   "execution_count": 10,
   "metadata": {},
   "outputs": [],
   "source": [
    "# Make each sentence its own record\n",
    "L3_split = pd.DataFrame({'text':np.concatenate(L3_sent.text.values), 'category':L3_sent.category.repeat(L3_sent.text.str.len())}).reindex()\n"
   ]
  },
  {
   "cell_type": "code",
   "execution_count": 11,
   "metadata": {},
   "outputs": [
    {
     "data": {
      "text/html": [
       "<div>\n",
       "<style scoped>\n",
       "    .dataframe tbody tr th:only-of-type {\n",
       "        vertical-align: middle;\n",
       "    }\n",
       "\n",
       "    .dataframe tbody tr th {\n",
       "        vertical-align: top;\n",
       "    }\n",
       "\n",
       "    .dataframe thead th {\n",
       "        text-align: right;\n",
       "    }\n",
       "</style>\n",
       "<table border=\"1\" class=\"dataframe\">\n",
       "  <thead>\n",
       "    <tr style=\"text-align: right;\">\n",
       "      <th></th>\n",
       "      <th>text</th>\n",
       "      <th>category</th>\n",
       "    </tr>\n",
       "  </thead>\n",
       "  <tbody>\n",
       "    <tr>\n",
       "      <th>0</th>\n",
       "      <td>The Economic Effects of Abortion Access: A Rev...</td>\n",
       "      <td>pro-choice</td>\n",
       "    </tr>\n",
       "    <tr>\n",
       "      <th>0</th>\n",
       "      <td>Highlights\\nA large body of research has exami...</td>\n",
       "      <td>pro-choice</td>\n",
       "    </tr>\n",
       "    <tr>\n",
       "      <th>0</th>\n",
       "      <td>A number of studies have also established asso...</td>\n",
       "      <td>pro-choice</td>\n",
       "    </tr>\n",
       "    <tr>\n",
       "      <th>0</th>\n",
       "      <td>This paper summarizes a smaller body of litera...</td>\n",
       "      <td>pro-choice</td>\n",
       "    </tr>\n",
       "    <tr>\n",
       "      <th>0</th>\n",
       "      <td>Educational attainment:\\nAbortion access reduc...</td>\n",
       "      <td>pro-choice</td>\n",
       "    </tr>\n",
       "    <tr>\n",
       "      <th>0</th>\n",
       "      <td>This allowed Black women greater opportunity t...</td>\n",
       "      <td>pro-choice</td>\n",
       "    </tr>\n",
       "    <tr>\n",
       "      <th>0</th>\n",
       "      <td>Abortion legalization in the 1970s increased B...</td>\n",
       "      <td>pro-choice</td>\n",
       "    </tr>\n",
       "    <tr>\n",
       "      <th>0</th>\n",
       "      <td>Among White women, abortion access lowered tee...</td>\n",
       "      <td>pro-choice</td>\n",
       "    </tr>\n",
       "    <tr>\n",
       "      <th>0</th>\n",
       "      <td>Effects were stronger for Black women, increas...</td>\n",
       "      <td>pro-choice</td>\n",
       "    </tr>\n",
       "    <tr>\n",
       "      <th>0</th>\n",
       "      <td>Other effects: Abortion access reduced uninten...</td>\n",
       "      <td>pro-choice</td>\n",
       "    </tr>\n",
       "    <tr>\n",
       "      <th>0</th>\n",
       "      <td>Cohorts of children were more likely to be pla...</td>\n",
       "      <td>pro-choice</td>\n",
       "    </tr>\n",
       "    <tr>\n",
       "      <th>0</th>\n",
       "      <td>International evidence:\\n\\nA limited number of...</td>\n",
       "      <td>pro-choice</td>\n",
       "    </tr>\n",
       "    <tr>\n",
       "      <th>0</th>\n",
       "      <td>Many findings from other country contexts are ...</td>\n",
       "      <td>pro-choice</td>\n",
       "    </tr>\n",
       "    <tr>\n",
       "      <th>0</th>\n",
       "      <td>Decreased fertility increased women’s labor ma...</td>\n",
       "      <td>pro-choice</td>\n",
       "    </tr>\n",
       "    <tr>\n",
       "      <th>0</th>\n",
       "      <td>Evidence from policy changes in the 1970s has ...</td>\n",
       "      <td>pro-choice</td>\n",
       "    </tr>\n",
       "    <tr>\n",
       "      <th>0</th>\n",
       "      <td>Research examining the effects of more recent ...</td>\n",
       "      <td>pro-choice</td>\n",
       "    </tr>\n",
       "    <tr>\n",
       "      <th>0</th>\n",
       "      <td>While high school education is nearly universa...</td>\n",
       "      <td>pro-choice</td>\n",
       "    </tr>\n",
       "    <tr>\n",
       "      <th>0</th>\n",
       "      <td>Women’s labor force participation continues to...</td>\n",
       "      <td>pro-choice</td>\n",
       "    </tr>\n",
       "    <tr>\n",
       "      <th>0</th>\n",
       "      <td>The relationship between female labor force pa...</td>\n",
       "      <td>pro-choice</td>\n",
       "    </tr>\n",
       "    <tr>\n",
       "      <th>0</th>\n",
       "      <td>Although the most important implication of abo...</td>\n",
       "      <td>pro-choice</td>\n",
       "    </tr>\n",
       "  </tbody>\n",
       "</table>\n",
       "</div>"
      ],
      "text/plain": [
       "                                                text    category\n",
       "0  The Economic Effects of Abortion Access: A Rev...  pro-choice\n",
       "0  Highlights\\nA large body of research has exami...  pro-choice\n",
       "0  A number of studies have also established asso...  pro-choice\n",
       "0  This paper summarizes a smaller body of litera...  pro-choice\n",
       "0  Educational attainment:\\nAbortion access reduc...  pro-choice\n",
       "0  This allowed Black women greater opportunity t...  pro-choice\n",
       "0  Abortion legalization in the 1970s increased B...  pro-choice\n",
       "0  Among White women, abortion access lowered tee...  pro-choice\n",
       "0  Effects were stronger for Black women, increas...  pro-choice\n",
       "0  Other effects: Abortion access reduced uninten...  pro-choice\n",
       "0  Cohorts of children were more likely to be pla...  pro-choice\n",
       "0  International evidence:\\n\\nA limited number of...  pro-choice\n",
       "0  Many findings from other country contexts are ...  pro-choice\n",
       "0  Decreased fertility increased women’s labor ma...  pro-choice\n",
       "0  Evidence from policy changes in the 1970s has ...  pro-choice\n",
       "0  Research examining the effects of more recent ...  pro-choice\n",
       "0  While high school education is nearly universa...  pro-choice\n",
       "0  Women’s labor force participation continues to...  pro-choice\n",
       "0  The relationship between female labor force pa...  pro-choice\n",
       "0  Although the most important implication of abo...  pro-choice"
      ]
     },
     "execution_count": 11,
     "metadata": {},
     "output_type": "execute_result"
    }
   ],
   "source": [
    "# View result\n",
    "L3_split.head(20)"
   ]
  },
  {
   "cell_type": "code",
   "execution_count": 12,
   "metadata": {},
   "outputs": [],
   "source": [
    "# Replace newline characters with spaces\n",
    "L3_split[\"text\"] = L3_split[\"text\"].apply(lambda x: x.replace('\\n', ' '))"
   ]
  },
  {
   "cell_type": "code",
   "execution_count": 13,
   "metadata": {},
   "outputs": [
    {
     "data": {
      "text/html": [
       "<div>\n",
       "<style scoped>\n",
       "    .dataframe tbody tr th:only-of-type {\n",
       "        vertical-align: middle;\n",
       "    }\n",
       "\n",
       "    .dataframe tbody tr th {\n",
       "        vertical-align: top;\n",
       "    }\n",
       "\n",
       "    .dataframe thead th {\n",
       "        text-align: right;\n",
       "    }\n",
       "</style>\n",
       "<table border=\"1\" class=\"dataframe\">\n",
       "  <thead>\n",
       "    <tr style=\"text-align: right;\">\n",
       "      <th></th>\n",
       "      <th>text</th>\n",
       "      <th>category</th>\n",
       "    </tr>\n",
       "  </thead>\n",
       "  <tbody>\n",
       "    <tr>\n",
       "      <th>0</th>\n",
       "      <td>The Economic Effects of Abortion Access: A Rev...</td>\n",
       "      <td>pro-choice</td>\n",
       "    </tr>\n",
       "    <tr>\n",
       "      <th>0</th>\n",
       "      <td>Highlights A large body of research has examin...</td>\n",
       "      <td>pro-choice</td>\n",
       "    </tr>\n",
       "    <tr>\n",
       "      <th>0</th>\n",
       "      <td>A number of studies have also established asso...</td>\n",
       "      <td>pro-choice</td>\n",
       "    </tr>\n",
       "    <tr>\n",
       "      <th>0</th>\n",
       "      <td>This paper summarizes a smaller body of litera...</td>\n",
       "      <td>pro-choice</td>\n",
       "    </tr>\n",
       "    <tr>\n",
       "      <th>0</th>\n",
       "      <td>Educational attainment: Abortion access reduce...</td>\n",
       "      <td>pro-choice</td>\n",
       "    </tr>\n",
       "    <tr>\n",
       "      <th>0</th>\n",
       "      <td>This allowed Black women greater opportunity t...</td>\n",
       "      <td>pro-choice</td>\n",
       "    </tr>\n",
       "    <tr>\n",
       "      <th>0</th>\n",
       "      <td>Abortion legalization in the 1970s increased B...</td>\n",
       "      <td>pro-choice</td>\n",
       "    </tr>\n",
       "    <tr>\n",
       "      <th>0</th>\n",
       "      <td>Among White women, abortion access lowered tee...</td>\n",
       "      <td>pro-choice</td>\n",
       "    </tr>\n",
       "    <tr>\n",
       "      <th>0</th>\n",
       "      <td>Effects were stronger for Black women, increas...</td>\n",
       "      <td>pro-choice</td>\n",
       "    </tr>\n",
       "    <tr>\n",
       "      <th>0</th>\n",
       "      <td>Other effects: Abortion access reduced uninten...</td>\n",
       "      <td>pro-choice</td>\n",
       "    </tr>\n",
       "    <tr>\n",
       "      <th>0</th>\n",
       "      <td>Cohorts of children were more likely to be pla...</td>\n",
       "      <td>pro-choice</td>\n",
       "    </tr>\n",
       "    <tr>\n",
       "      <th>0</th>\n",
       "      <td>International evidence:  A limited number of s...</td>\n",
       "      <td>pro-choice</td>\n",
       "    </tr>\n",
       "    <tr>\n",
       "      <th>0</th>\n",
       "      <td>Many findings from other country contexts are ...</td>\n",
       "      <td>pro-choice</td>\n",
       "    </tr>\n",
       "    <tr>\n",
       "      <th>0</th>\n",
       "      <td>Decreased fertility increased women’s labor ma...</td>\n",
       "      <td>pro-choice</td>\n",
       "    </tr>\n",
       "    <tr>\n",
       "      <th>0</th>\n",
       "      <td>Evidence from policy changes in the 1970s has ...</td>\n",
       "      <td>pro-choice</td>\n",
       "    </tr>\n",
       "    <tr>\n",
       "      <th>0</th>\n",
       "      <td>Research examining the effects of more recent ...</td>\n",
       "      <td>pro-choice</td>\n",
       "    </tr>\n",
       "    <tr>\n",
       "      <th>0</th>\n",
       "      <td>While high school education is nearly universa...</td>\n",
       "      <td>pro-choice</td>\n",
       "    </tr>\n",
       "    <tr>\n",
       "      <th>0</th>\n",
       "      <td>Women’s labor force participation continues to...</td>\n",
       "      <td>pro-choice</td>\n",
       "    </tr>\n",
       "    <tr>\n",
       "      <th>0</th>\n",
       "      <td>The relationship between female labor force pa...</td>\n",
       "      <td>pro-choice</td>\n",
       "    </tr>\n",
       "    <tr>\n",
       "      <th>0</th>\n",
       "      <td>Although the most important implication of abo...</td>\n",
       "      <td>pro-choice</td>\n",
       "    </tr>\n",
       "  </tbody>\n",
       "</table>\n",
       "</div>"
      ],
      "text/plain": [
       "                                                text    category\n",
       "0  The Economic Effects of Abortion Access: A Rev...  pro-choice\n",
       "0  Highlights A large body of research has examin...  pro-choice\n",
       "0  A number of studies have also established asso...  pro-choice\n",
       "0  This paper summarizes a smaller body of litera...  pro-choice\n",
       "0  Educational attainment: Abortion access reduce...  pro-choice\n",
       "0  This allowed Black women greater opportunity t...  pro-choice\n",
       "0  Abortion legalization in the 1970s increased B...  pro-choice\n",
       "0  Among White women, abortion access lowered tee...  pro-choice\n",
       "0  Effects were stronger for Black women, increas...  pro-choice\n",
       "0  Other effects: Abortion access reduced uninten...  pro-choice\n",
       "0  Cohorts of children were more likely to be pla...  pro-choice\n",
       "0  International evidence:  A limited number of s...  pro-choice\n",
       "0  Many findings from other country contexts are ...  pro-choice\n",
       "0  Decreased fertility increased women’s labor ma...  pro-choice\n",
       "0  Evidence from policy changes in the 1970s has ...  pro-choice\n",
       "0  Research examining the effects of more recent ...  pro-choice\n",
       "0  While high school education is nearly universa...  pro-choice\n",
       "0  Women’s labor force participation continues to...  pro-choice\n",
       "0  The relationship between female labor force pa...  pro-choice\n",
       "0  Although the most important implication of abo...  pro-choice"
      ]
     },
     "execution_count": 13,
     "metadata": {},
     "output_type": "execute_result"
    }
   ],
   "source": [
    "# View output\n",
    "\n",
    "L3_split.head(20)"
   ]
  },
  {
   "cell_type": "code",
   "execution_count": 14,
   "metadata": {},
   "outputs": [],
   "source": [
    "# Remove all records less than 10 characters\n",
    "\n",
    "L3_split = L3_split[L3_split.text.str.len() > 10]"
   ]
  },
  {
   "cell_type": "code",
   "execution_count": 15,
   "metadata": {},
   "outputs": [],
   "source": [
    "# Save output \n",
    "\n",
    "L3_split.to_csv(\"L3train_nonOneHot_7topics.csv\")"
   ]
  },
  {
   "cell_type": "code",
   "execution_count": 16,
   "metadata": {},
   "outputs": [
    {
     "data": {
      "image/png": "[encoded data removed]",
      "text/plain": [
       "<Figure size 432x288 with 1 Axes>"
      ]
     },
     "metadata": {},
     "output_type": "display_data"
    }
   ],
   "source": [
    "# Get distribution of the number of words per sentence\n",
    "\n",
    "L3_split['totalwords'] = [len(x.split()) for x in L3_split['text'].tolist()]\n",
    "\n",
    "\n",
    "plt.hist(L3_split[\"totalwords\"])\n",
    "plt.show()"
   ]
  },
  {
   "cell_type": "code",
   "execution_count": 17,
   "metadata": {},
   "outputs": [
    {
     "data": {
      "text/plain": [
       "205"
      ]
     },
     "execution_count": 17,
     "metadata": {},
     "output_type": "execute_result"
    }
   ],
   "source": [
    "# Word count of longest sentence\n",
    "\n",
    "max(L3_split['totalwords'])"
   ]
  },
  {
   "cell_type": "code",
   "execution_count": 18,
   "metadata": {},
   "outputs": [
    {
     "data": {
      "text/plain": [
       "(9987, 3)"
      ]
     },
     "execution_count": 18,
     "metadata": {},
     "output_type": "execute_result"
    }
   ],
   "source": [
    "L3_split.shape"
   ]
  },
  {
   "cell_type": "code",
   "execution_count": 17,
   "metadata": {},
   "outputs": [
    {
     "data": {
      "text/html": [
       "<div>\n",
       "<style scoped>\n",
       "    .dataframe tbody tr th:only-of-type {\n",
       "        vertical-align: middle;\n",
       "    }\n",
       "\n",
       "    .dataframe tbody tr th {\n",
       "        vertical-align: top;\n",
       "    }\n",
       "\n",
       "    .dataframe thead th {\n",
       "        text-align: right;\n",
       "    }\n",
       "</style>\n",
       "<table border=\"1\" class=\"dataframe\">\n",
       "  <thead>\n",
       "    <tr style=\"text-align: right;\">\n",
       "      <th></th>\n",
       "      <th>Unnamed: 0</th>\n",
       "      <th>text</th>\n",
       "      <th>category</th>\n",
       "    </tr>\n",
       "  </thead>\n",
       "  <tbody>\n",
       "    <tr>\n",
       "      <th>0</th>\n",
       "      <td>0</td>\n",
       "      <td>The Economic Effects of Abortion Access: A Rev...</td>\n",
       "      <td>pro-choice</td>\n",
       "    </tr>\n",
       "    <tr>\n",
       "      <th>1</th>\n",
       "      <td>0</td>\n",
       "      <td>Highlights A large body of research has examin...</td>\n",
       "      <td>pro-choice</td>\n",
       "    </tr>\n",
       "    <tr>\n",
       "      <th>2</th>\n",
       "      <td>0</td>\n",
       "      <td>A number of studies have also established asso...</td>\n",
       "      <td>pro-choice</td>\n",
       "    </tr>\n",
       "    <tr>\n",
       "      <th>3</th>\n",
       "      <td>0</td>\n",
       "      <td>This paper summarizes a smaller body of litera...</td>\n",
       "      <td>pro-choice</td>\n",
       "    </tr>\n",
       "    <tr>\n",
       "      <th>4</th>\n",
       "      <td>0</td>\n",
       "      <td>Educational attainment: Abortion access reduce...</td>\n",
       "      <td>pro-choice</td>\n",
       "    </tr>\n",
       "  </tbody>\n",
       "</table>\n",
       "</div>"
      ],
      "text/plain": [
       "   Unnamed: 0                                               text    category\n",
       "0           0  The Economic Effects of Abortion Access: A Rev...  pro-choice\n",
       "1           0  Highlights A large body of research has examin...  pro-choice\n",
       "2           0  A number of studies have also established asso...  pro-choice\n",
       "3           0  This paper summarizes a smaller body of litera...  pro-choice\n",
       "4           0  Educational attainment: Abortion access reduce...  pro-choice"
      ]
     },
     "execution_count": 17,
     "metadata": {},
     "output_type": "execute_result"
    }
   ],
   "source": [
    "## Now doing final preprocessing steps to get the data ready for BERT\n",
    "\n",
    "L3_df = pd.read_csv('L3train_nonOneHot_7topics.csv')\n",
    "L3_df.head()"
   ]
  },
  {
   "cell_type": "code",
   "execution_count": 18,
   "metadata": {},
   "outputs": [
    {
     "data": {
      "text/plain": [
       "array(['pro-choice', 'pro-immigration', 'pro-guns', 'anti-spending',\n",
       "       'anti-immigration', 'oppose-medicare', 'pro-life', 'pro-free',\n",
       "       'pro-medicare', 'tax-wealthy', 'anti-tax-wealthy', 'anti-guns',\n",
       "       'anti-free', 'pro-spending'], dtype=object)"
      ]
     },
     "execution_count": 18,
     "metadata": {},
     "output_type": "execute_result"
    }
   ],
   "source": [
    "L3_df.category.unique()"
   ]
  },
  {
   "cell_type": "code",
   "execution_count": 19,
   "metadata": {},
   "outputs": [],
   "source": [
    "label_dict = {'pro-immigration':0, 'pro-guns':1, 'anti-immigration':2,'oppose-medicare':3, \n",
    "              'pro-medicare':4, 'anti-guns':5, 'pro-choice':6, 'pro-life':7,\n",
    "              'pro-free':8, 'anti-free':9, 'pro-spending':10, 'anti-spending':11,\n",
    "              'tax-wealthy': 12, 'anti-tax-wealthy':13}"
   ]
  },
  {
   "cell_type": "code",
   "execution_count": 20,
   "metadata": {},
   "outputs": [
    {
     "data": {
      "text/html": [
       "<div>\n",
       "<style scoped>\n",
       "    .dataframe tbody tr th:only-of-type {\n",
       "        vertical-align: middle;\n",
       "    }\n",
       "\n",
       "    .dataframe tbody tr th {\n",
       "        vertical-align: top;\n",
       "    }\n",
       "\n",
       "    .dataframe thead th {\n",
       "        text-align: right;\n",
       "    }\n",
       "</style>\n",
       "<table border=\"1\" class=\"dataframe\">\n",
       "  <thead>\n",
       "    <tr style=\"text-align: right;\">\n",
       "      <th></th>\n",
       "      <th>Unnamed: 0</th>\n",
       "      <th>text</th>\n",
       "      <th>category</th>\n",
       "    </tr>\n",
       "  </thead>\n",
       "  <tbody>\n",
       "    <tr>\n",
       "      <th>3351</th>\n",
       "      <td>13</td>\n",
       "      <td>The US doesn’t just sell military arsenals.</td>\n",
       "      <td>11</td>\n",
       "    </tr>\n",
       "    <tr>\n",
       "      <th>9904</th>\n",
       "      <td>8</td>\n",
       "      <td>Under current plans, the Army will recruit an ...</td>\n",
       "      <td>10</td>\n",
       "    </tr>\n",
       "    <tr>\n",
       "      <th>1839</th>\n",
       "      <td>0</td>\n",
       "      <td>Whatever label you attach to their strategy, t...</td>\n",
       "      <td>1</td>\n",
       "    </tr>\n",
       "    <tr>\n",
       "      <th>5681</th>\n",
       "      <td>6</td>\n",
       "      <td>Otherwise, the money will have to be allocated...</td>\n",
       "      <td>8</td>\n",
       "    </tr>\n",
       "    <tr>\n",
       "      <th>3624</th>\n",
       "      <td>5</td>\n",
       "      <td>Open immigration policies and efforts do not a...</td>\n",
       "      <td>2</td>\n",
       "    </tr>\n",
       "  </tbody>\n",
       "</table>\n",
       "</div>"
      ],
      "text/plain": [
       "      Unnamed: 0                                               text  category\n",
       "3351          13        The US doesn’t just sell military arsenals.        11\n",
       "9904           8  Under current plans, the Army will recruit an ...        10\n",
       "1839           0  Whatever label you attach to their strategy, t...         1\n",
       "5681           6  Otherwise, the money will have to be allocated...         8\n",
       "3624           5  Open immigration policies and efforts do not a...         2"
      ]
     },
     "execution_count": 20,
     "metadata": {},
     "output_type": "execute_result"
    }
   ],
   "source": [
    "L3_df['category'] = L3_df.category.apply(lambda x: label_dict[x])\n",
    "L3_df = shuffle(L3_df,random_state = 100)\n",
    "L3_df.head()"
   ]
  },
  {
   "cell_type": "code",
   "execution_count": 21,
   "metadata": {},
   "outputs": [
    {
     "data": {
      "text/html": [
       "<div>\n",
       "<style scoped>\n",
       "    .dataframe tbody tr th:only-of-type {\n",
       "        vertical-align: middle;\n",
       "    }\n",
       "\n",
       "    .dataframe tbody tr th {\n",
       "        vertical-align: top;\n",
       "    }\n",
       "\n",
       "    .dataframe thead th {\n",
       "        text-align: right;\n",
       "    }\n",
       "</style>\n",
       "<table border=\"1\" class=\"dataframe\">\n",
       "  <thead>\n",
       "    <tr style=\"text-align: right;\">\n",
       "      <th></th>\n",
       "      <th>id</th>\n",
       "      <th>label</th>\n",
       "      <th>alpha</th>\n",
       "      <th>text</th>\n",
       "    </tr>\n",
       "  </thead>\n",
       "  <tbody>\n",
       "    <tr>\n",
       "      <th>3351</th>\n",
       "      <td>0</td>\n",
       "      <td>11</td>\n",
       "      <td>a</td>\n",
       "      <td>The US doesn’t just sell military arsenals.</td>\n",
       "    </tr>\n",
       "    <tr>\n",
       "      <th>9904</th>\n",
       "      <td>1</td>\n",
       "      <td>10</td>\n",
       "      <td>a</td>\n",
       "      <td>Under current plans, the Army will recruit an ...</td>\n",
       "    </tr>\n",
       "    <tr>\n",
       "      <th>1839</th>\n",
       "      <td>2</td>\n",
       "      <td>1</td>\n",
       "      <td>a</td>\n",
       "      <td>Whatever label you attach to their strategy, t...</td>\n",
       "    </tr>\n",
       "    <tr>\n",
       "      <th>5681</th>\n",
       "      <td>3</td>\n",
       "      <td>8</td>\n",
       "      <td>a</td>\n",
       "      <td>Otherwise, the money will have to be allocated...</td>\n",
       "    </tr>\n",
       "    <tr>\n",
       "      <th>3624</th>\n",
       "      <td>4</td>\n",
       "      <td>2</td>\n",
       "      <td>a</td>\n",
       "      <td>Open immigration policies and efforts do not a...</td>\n",
       "    </tr>\n",
       "  </tbody>\n",
       "</table>\n",
       "</div>"
      ],
      "text/plain": [
       "      id  label alpha                                               text\n",
       "3351   0     11     a        The US doesn’t just sell military arsenals.\n",
       "9904   1     10     a  Under current plans, the Army will recruit an ...\n",
       "1839   2      1     a  Whatever label you attach to their strategy, t...\n",
       "5681   3      8     a  Otherwise, the money will have to be allocated...\n",
       "3624   4      2     a  Open immigration policies and efforts do not a..."
      ]
     },
     "execution_count": 21,
     "metadata": {},
     "output_type": "execute_result"
    }
   ],
   "source": [
    "L3_df = pd.DataFrame({\n",
    "    'id':range(len(L3_df)),\n",
    "    'label':L3_df['category'],\n",
    "    'alpha':['a']*L3_df.shape[0],\n",
    "    'text': L3_df['text']\n",
    "})\n",
    "\n",
    "L3_df.head()"
   ]
  },
  {
   "cell_type": "code",
   "execution_count": 22,
   "metadata": {},
   "outputs": [
    {
     "name": "stdout",
     "output_type": "stream",
     "text": [
      "8988\n",
      "Rows in Training: 8988\n",
      "Rows in Dev: 999\n"
     ]
    }
   ],
   "source": [
    "cutoff = math.floor(len(L3_df) * 0.9)\n",
    "print(cutoff)\n",
    "\n",
    "train_df = L3_df[:cutoff]\n",
    "dev_df = L3_df[cutoff:]\n",
    "print('Rows in Training:', train_df.shape[0])\n",
    "print('Rows in Dev:', dev_df.shape[0])"
   ]
  },
  {
   "cell_type": "code",
   "execution_count": 23,
   "metadata": {},
   "outputs": [],
   "source": [
    "train_df.to_csv('train.tsv', sep='\\t', header=True, index=False, columns=train_df.columns)\n",
    "dev_df.to_csv('dev.tsv', sep='\\t', header=True, index=False, columns=dev_df.columns)"
   ]
  },
  {
   "cell_type": "markdown",
   "metadata": {},
   "source": [
    "# Test data\n",
    "We apply a similar methodology on our test data"
   ]
  },
  {
   "cell_type": "code",
   "execution_count": 2,
   "metadata": {},
   "outputs": [],
   "source": [
    "def preprocess_df(csv):\n",
    "    candidate_name = csv.split('_')[0]\n",
    "    \n",
    "    df = pd.read_csv(csv)\n",
    "    df['text'] = df['text'].apply(lambda x: tokenize.sent_tokenize(x))\n",
    "    df = pd.DataFrame({'text':np.concatenate(df.text.values)}).reindex()\n",
    "    df[\"text\"] = df[\"text\"].apply(lambda x: x.replace('\\n', ' '))\n",
    "    df = df[df.text.str.len() > 10]\n",
    "    df.to_csv(candidate_name + \"_test2.csv\")\n",
    "    "
   ]
  },
  {
   "cell_type": "code",
   "execution_count": 3,
   "metadata": {},
   "outputs": [],
   "source": [
    "preprocess_df(\"Biden_cleaned2.csv\")\n",
    "preprocess_df(\"Sanders_cleaned2.csv\")\n",
    "preprocess_df(\"Buttigieg_cleaned2.csv\")\n",
    "preprocess_df(\"Yang_cleaned2.csv\")\n",
    "preprocess_df(\"Warren_cleaned2.csv\")\n",
    "preprocess_df(\"Klobuchar_cleaned2.csv\")"
   ]
  },
  {
   "cell_type": "code",
   "execution_count": 24,
   "metadata": {},
   "outputs": [],
   "source": [
    "def preprocess_test(candidate):\n",
    "    df = pd.read_csv('%s_test2.csv' % candidate, lineterminator='\\n')\n",
    "    df.columns = ['id','text']\n",
    "    df.to_csv('%s.tsv' % candidate, sep='\\t', header=True, index=False, columns=df.columns)\n",
    "    \n",
    "def preprocess_trump():\n",
    "    df = pd.read_csv('trump_tweets.csv').reset_index()\n",
    "    df.columns = ['id','text']\n",
    "    df.to_csv('Trump.tsv', sep='\\t', header=True, index=False, columns=df.columns)"
   ]
  },
  {
   "cell_type": "code",
   "execution_count": 25,
   "metadata": {},
   "outputs": [],
   "source": [
    "preprocess_trump()\n",
    "preprocess_test('Biden')\n",
    "preprocess_test('Sanders')\n",
    "preprocess_test('Buttigieg')\n",
    "preprocess_test('Klobuchar')\n",
    "preprocess_test('Warren')\n",
    "preprocess_test('Yang')"
   ]
  },
  {
   "cell_type": "code",
   "execution_count": null,
   "metadata": {},
   "outputs": [],
   "source": []
  }
 ],
 "metadata": {
  "kernelspec": {
   "display_name": "Python 3",
   "language": "python",
   "name": "python3"
  },
  "language_info": {
   "codemirror_mode": {
    "name": "ipython",
    "version": 3
   },
   "file_extension": ".py",
   "mimetype": "text/x-python",
   "name": "python",
   "nbconvert_exporter": "python",
   "pygments_lexer": "ipython3",
   "version": "3.6.8"
  }
 },
 "nbformat": 4,
 "nbformat_minor": 2
}
