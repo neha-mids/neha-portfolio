{
 "cells": [
  {
   "cell_type": "markdown",
   "metadata": {},
   "source": [
    "# Acknowledgements\n",
    "\n",
    "The LSTM baseline model was run against AWS Sagemaker. To create the baseline model, we adapted the following tutorial that demonstrates a pytorch implementation of LSTMs in the Sagemaker environment. Initial data loading and preprocessimng steps were modified to account for the structure of our training data. The hyperparameters we experimented with were (1) whether STOP words were included in the vocabulary (2) word embedding dimension and (3) epochs. The best micro F1 score optained was 0.12\n",
    "\n",
    "Reference https://github.com/danwild/sagemaker-sentiment-analysis/blob/master/SageMaker%20Project.ipynb"
   ]
  },
  {
   "cell_type": "code",
   "execution_count": 79,
   "metadata": {},
   "outputs": [],
   "source": [
    "import os\n",
    "import glob\n",
    "import pandas as pd\n",
    "import nltk\n",
    "from nltk.corpus import stopwords\n",
    "from nltk.stem.porter import *\n",
    "import re\n",
    "import numpy as np\n",
    "import pickle\n",
    "import sagemaker\n",
    "import torch\n",
    "import torch.utils.data\n",
    "import torch.optim as optim\n",
    "from train.model_lstm import LSTMClassifier\n",
    "from sagemaker.pytorch import PyTorch\n",
    "import collections\n",
    "from sklearn.utils import shuffle\n",
    "from sklearn.model_selection import train_test_split"
   ]
  },
  {
   "cell_type": "code",
   "execution_count": 80,
   "metadata": {},
   "outputs": [
    {
     "data": {
      "text/plain": [
       "['pro-choice',\n",
       " 'pro-immigration',\n",
       " 'pro-guns',\n",
       " 'anti-spending',\n",
       " 'anti-immigration',\n",
       " 'oppose-medicare',\n",
       " 'pro-life',\n",
       " 'pro-free',\n",
       " 'pro-medicare',\n",
       " 'tax-wealthy',\n",
       " 'anti-tax-wealthy',\n",
       " 'anti-guns',\n",
       " 'anti-free',\n",
       " 'pro-spending']"
      ]
     },
     "execution_count": 80,
     "metadata": {},
     "output_type": "execute_result"
    }
   ],
   "source": [
    "df = pd.read_csv('./data/L3train_nonOneHot_7topics.csv')\n",
    "list(df.category.unique())"
   ]
  },
  {
   "cell_type": "code",
   "execution_count": 81,
   "metadata": {},
   "outputs": [],
   "source": [
    "label_dict = {'pro-immigration':0, 'anti-immigration':1, 'pro-guns':2, 'anti-guns':3, 'pro-medicare':4, 'oppose-medicare':5, 'pro-choice': 6, 'pro-life':7,\n",
    "             'pro-spending':8, 'anti-spending':9, 'pro-free':10, 'anti-free':11, 'tax-wealthy':12, 'anti-tax-wealthy':13}\n"
   ]
  },
  {
   "cell_type": "code",
   "execution_count": 82,
   "metadata": {},
   "outputs": [
    {
     "data": {
      "text/plain": [
       "category\n",
       "anti-free           666\n",
       "anti-guns           745\n",
       "anti-immigration    385\n",
       "anti-spending       839\n",
       "anti-tax-wealthy    587\n",
       "oppose-medicare     639\n",
       "pro-choice          886\n",
       "pro-free            614\n",
       "pro-guns            759\n",
       "pro-immigration     900\n",
       "pro-life            905\n",
       "pro-medicare        673\n",
       "pro-spending        439\n",
       "tax-wealthy         950\n",
       "Name: text, dtype: int64"
      ]
     },
     "execution_count": 82,
     "metadata": {},
     "output_type": "execute_result"
    }
   ],
   "source": [
    "df.groupby('category').count()['text']"
   ]
  },
  {
   "cell_type": "code",
   "execution_count": 83,
   "metadata": {},
   "outputs": [],
   "source": [
    "data_y = df[\"category\"].values\n",
    "data_y = [label_dict[x] for x in data_y]\n",
    "data_X = df[\"text\"].values"
   ]
  },
  {
   "cell_type": "code",
   "execution_count": 84,
   "metadata": {},
   "outputs": [
    {
     "name": "stdout",
     "output_type": "stream",
     "text": [
      "Full dataset (combined):  9987\n"
     ]
    }
   ],
   "source": [
    "# data_X, data_y = combine_data(data, labels)\n",
    "print(\"Full dataset (combined): \", len(data_X))"
   ]
  },
  {
   "cell_type": "code",
   "execution_count": 85,
   "metadata": {},
   "outputs": [],
   "source": [
    "train_X, dev_X, train_y, dev_y = train_test_split( data_X, data_y, test_size=0.90, random_state=42)"
   ]
  },
  {
   "cell_type": "code",
   "execution_count": 86,
   "metadata": {},
   "outputs": [
    {
     "data": {
      "text/plain": [
       "('That is the essence of democracy, and our democracy is based on the idea that we have a social contract that will ensure the well-being of all citizens — not just gun fetishists.',\n",
       " 3)"
      ]
     },
     "execution_count": 86,
     "metadata": {},
     "output_type": "execute_result"
    }
   ],
   "source": [
    "train_X[33], train_y[33]"
   ]
  },
  {
   "cell_type": "code",
   "execution_count": 87,
   "metadata": {},
   "outputs": [
    {
     "data": {
      "text/plain": [
       "Counter({8: 40,\n",
       "         13: 68,\n",
       "         3: 63,\n",
       "         0: 81,\n",
       "         6: 84,\n",
       "         5: 58,\n",
       "         4: 70,\n",
       "         1: 40,\n",
       "         12: 109,\n",
       "         9: 85,\n",
       "         7: 97,\n",
       "         2: 71,\n",
       "         11: 63,\n",
       "         10: 69})"
      ]
     },
     "execution_count": 87,
     "metadata": {},
     "output_type": "execute_result"
    }
   ],
   "source": [
    "collections.Counter(train_y)"
   ]
  },
  {
   "cell_type": "code",
   "execution_count": 88,
   "metadata": {},
   "outputs": [],
   "source": [
    "def sent_to_words(text):\n",
    "    nltk.download(\"stopwords\", quiet=True)\n",
    "    \n",
    "    text = re.sub(r\"[^a-zA-Z0-9]\", \" \", text.lower()) # Convert to lower case\n",
    "    words = text.split() # Split string into words\n",
    "#     words = [w for w in words if w not in stopwords.words(\"english\")] # Remove stopwords\n",
    "    \n",
    "    return words"
   ]
  },
  {
   "cell_type": "code",
   "execution_count": 89,
   "metadata": {},
   "outputs": [
    {
     "data": {
      "text/plain": [
       "['fortunately', 'i', 'm', 'not', 'alone']"
      ]
     },
     "execution_count": 89,
     "metadata": {},
     "output_type": "execute_result"
    }
   ],
   "source": [
    "# See an example\n",
    "sent_to_words(train_X[1])"
   ]
  },
  {
   "cell_type": "code",
   "execution_count": 90,
   "metadata": {},
   "outputs": [],
   "source": [
    "words_train = [sent_to_words(sent) for sent in train_X]\n",
    "words_dev = [sent_to_words(sent) for sent in dev_X]"
   ]
  },
  {
   "cell_type": "code",
   "execution_count": 92,
   "metadata": {},
   "outputs": [],
   "source": [
    "cache_dir = os.path.join(\"../cache\", \"lstm_baseline_single_label\")  # where to store cache files\n",
    "os.makedirs(cache_dir, exist_ok=True)  # ensure cache directory exists\n",
    "\n",
    "def preprocess_data(data_train, data_dev, labels_train, labels_dev, cache_dir=cache_dir, cache_file=\"preprocessed_data5.pkl\"):\n",
    "    \"\"\"Convert each sentence to words; read from cache if available.\"\"\"\n",
    "\n",
    "    # If cache_file is not None, try to read from it first\n",
    "    cache_data = None\n",
    "    if cache_file is not None:\n",
    "        try:\n",
    "            with open(os.path.join(cache_dir, cache_file), \"rb\") as f:\n",
    "                cache_data = pickle.load(f)\n",
    "            print(\"Read preprocessed data from cache file:\", cache_file)\n",
    "        except:\n",
    "            pass  # unable to read from cache, but that's okay\n",
    "    \n",
    "    # If cache is missing, then do the heavy lifting\n",
    "    if cache_data is None:\n",
    "        # Preprocess training and test data to obtain words for each review\n",
    "        # words_train = list(map(review_to_words, data_train))\n",
    "        # words_test = list(map(review_to_words, data_test))\n",
    "        words_train = [sent_to_words(text) for text in data_train]\n",
    "        words_dev = [sent_to_words(text) for text in data_dev]\n",
    "        \n",
    "        # Write to cache file for future runs\n",
    "        if cache_file is not None:\n",
    "            cache_data = dict(words_train=words_train, words_dev=words_dev,\n",
    "                              labels_train=labels_train, labels_dev=labels_dev)\n",
    "            with open(os.path.join(cache_dir, cache_file), \"wb\") as f:\n",
    "                pickle.dump(cache_data, f)\n",
    "            print(\"Wrote preprocessed data to cache file:\", cache_file)\n",
    "    else:\n",
    "        # Unpack data loaded from cache file\n",
    "        words_train, words_dev, labels_train, labels_dev = (cache_data['words_train'],\n",
    "                cache_data['words_dev'], cache_data['labels_train'], cache_data['labels_dev'])\n",
    "    \n",
    "    return words_train, words_dev, labels_train, labels_dev"
   ]
  },
  {
   "cell_type": "code",
   "execution_count": 93,
   "metadata": {},
   "outputs": [
    {
     "name": "stdout",
     "output_type": "stream",
     "text": [
      "Wrote preprocessed data to cache file: preprocessed_data5.pkl\n"
     ]
    }
   ],
   "source": [
    "# Preprocess data\n",
    "train_X, dev_X, train_y, dev_y = preprocess_data(train_X, dev_X, train_y, dev_y)"
   ]
  },
  {
   "cell_type": "markdown",
   "metadata": {},
   "source": [
    "# Transform Input"
   ]
  },
  {
   "cell_type": "code",
   "execution_count": 94,
   "metadata": {},
   "outputs": [],
   "source": [
    "def build_dict(data, vocab_size = 50000):\n",
    "    \"\"\"Construct and return a dictionary mapping each of the most frequently appearing words to a unique integer.\"\"\"\n",
    "    \n",
    "    # Determine how often each word appears in `data`. Note that `data` is a list of sentences and that a\n",
    "    # sentence is a list of words.\n",
    "    \n",
    "    # A dict storing the words that appear in the reviews along with how often they occur\n",
    "    word_count = {} \n",
    "    \n",
    "    # tally up the word counts\n",
    "    for sentence in data:\n",
    "        for word in sentence:\n",
    "            word_count[word] = word_count[word] + 1 if word in word_count else 1\n",
    "    \n",
    "    # Sort the words found in `data` so that sorted_words[0] is the most frequently appearing word and\n",
    "    # sorted_words[-1] is the least frequently appearing word. \n",
    "    word_count_sorted = sorted(word_count.items(), key=(lambda item: item[1]), reverse=True)\n",
    "    sorted_words = [item[0] for item in word_count_sorted]\n",
    "    \n",
    "    # This is what we are building, a dictionary that translates words into integers\n",
    "    word_dict = {} \n",
    "    for idx, word in enumerate(sorted_words[:vocab_size - 2]): # The -2 is so that we save room for the 'no word'\n",
    "        word_dict[word] = idx + 2                              # 'infrequent' labels\n",
    "        \n",
    "    return word_dict"
   ]
  },
  {
   "cell_type": "code",
   "execution_count": 95,
   "metadata": {},
   "outputs": [],
   "source": [
    "\n",
    "def convert_and_pad(word_dict, sentence, pad=128):\n",
    "    NOWORD = 0 # We will use 0 to represent the 'no word' category\n",
    "    INFREQ = 1 # and we use 1 to represent the infrequent words, i.e., words not appearing in word_dict\n",
    "    \n",
    "    working_sentence = [NOWORD] * pad\n",
    "    \n",
    "    for word_index, word in enumerate(sentence[:pad]):\n",
    "        if word in word_dict:\n",
    "            working_sentence[word_index] = word_dict[word]\n",
    "        else:\n",
    "            working_sentence[word_index] = INFREQ\n",
    "            \n",
    "    return working_sentence, min(len(sentence), pad)\n",
    "\n",
    "def convert_and_pad_data(word_dict, data, pad=128):\n",
    "    result = []\n",
    "    lengths = []\n",
    "    \n",
    "    for sentence in data:\n",
    "        converted, leng = convert_and_pad(word_dict, sentence, pad)\n",
    "        result.append(converted)\n",
    "        lengths.append(leng)\n",
    "        \n",
    "    return np.array(result), np.array(lengths)"
   ]
  },
  {
   "cell_type": "code",
   "execution_count": 96,
   "metadata": {},
   "outputs": [],
   "source": [
    "word_dict = build_dict(train_X)"
   ]
  },
  {
   "cell_type": "code",
   "execution_count": 97,
   "metadata": {},
   "outputs": [
    {
     "data": {
      "text/plain": [
       "['the', 'to', 'of', 'and', 'a']"
      ]
     },
     "execution_count": 97,
     "metadata": {},
     "output_type": "execute_result"
    }
   ],
   "source": [
    "list(word_dict.keys())[:5]"
   ]
  },
  {
   "cell_type": "code",
   "execution_count": 98,
   "metadata": {},
   "outputs": [],
   "source": [
    "## Save Progress so far\n",
    "\n",
    "data_dir = './data/pytorch' # The folder we will use for storing data\n",
    "if not os.path.exists(data_dir): # Make sure that the folder exists\n",
    "    print(\"making folder\")\n",
    "    os.makedirs(data_dir)"
   ]
  },
  {
   "cell_type": "code",
   "execution_count": 99,
   "metadata": {},
   "outputs": [
    {
     "name": "stdout",
     "output_type": "stream",
     "text": [
      "Pickling file\n"
     ]
    }
   ],
   "source": [
    "with open(os.path.join(data_dir, 'word_dict.pkl'), \"wb\") as f:\n",
    "    print(\"Pickling file\")\n",
    "    pickle.dump(word_dict, f)"
   ]
  },
  {
   "cell_type": "code",
   "execution_count": 100,
   "metadata": {},
   "outputs": [],
   "source": [
    "train_X_num, train_X_len = convert_and_pad_data(word_dict, train_X)\n",
    "dev_X_num, dev_X_len = convert_and_pad_data(word_dict, dev_X)"
   ]
  },
  {
   "cell_type": "code",
   "execution_count": 101,
   "metadata": {},
   "outputs": [
    {
     "name": "stdout",
     "output_type": "stream",
     "text": [
      "['fortunately', 'i', 'm', 'not', 'alone']\n",
      "[2021   65  303   22  526    0    0    0    0    0    0    0    0    0\n",
      "    0    0    0    0    0    0    0    0    0    0    0    0    0    0\n",
      "    0    0    0    0    0    0    0    0    0    0    0    0    0    0\n",
      "    0    0    0    0    0    0    0    0    0    0    0    0    0    0\n",
      "    0    0    0    0    0    0    0    0    0    0    0    0    0    0\n",
      "    0    0    0    0    0    0    0    0    0    0    0    0    0    0\n",
      "    0    0    0    0    0    0    0    0    0    0    0    0    0    0\n",
      "    0    0    0    0    0    0    0    0    0    0    0    0    0    0\n",
      "    0    0    0    0    0    0    0    0    0    0    0    0    0    0\n",
      "    0    0]\n"
     ]
    }
   ],
   "source": [
    "print(train_X[1])\n",
    "print(train_X_num[1])"
   ]
  },
  {
   "cell_type": "code",
   "execution_count": 102,
   "metadata": {},
   "outputs": [
    {
     "data": {
      "text/plain": [
       "128"
      ]
     },
     "execution_count": 102,
     "metadata": {},
     "output_type": "execute_result"
    }
   ],
   "source": [
    "max([len(x) for x in train_X_num])"
   ]
  },
  {
   "cell_type": "markdown",
   "metadata": {},
   "source": [
    "# Upload Data to Sagemaker"
   ]
  },
  {
   "cell_type": "code",
   "execution_count": 103,
   "metadata": {},
   "outputs": [
    {
     "data": {
      "text/plain": [
       "'./data/pytorch'"
      ]
     },
     "execution_count": 103,
     "metadata": {},
     "output_type": "execute_result"
    }
   ],
   "source": [
    "data_dir"
   ]
  },
  {
   "cell_type": "code",
   "execution_count": 104,
   "metadata": {},
   "outputs": [],
   "source": [
    "pd.concat([pd.DataFrame(train_y), pd.DataFrame(train_X_len), pd.DataFrame(train_X_num)], axis=1) \\\n",
    "        .to_csv(os.path.join(data_dir, 'lstm_train.csv'), header=False, index=False)"
   ]
  },
  {
   "cell_type": "code",
   "execution_count": 105,
   "metadata": {},
   "outputs": [],
   "source": [
    "sagemaker_session = sagemaker.Session()\n",
    "\n",
    "bucket = sagemaker_session.default_bucket()\n",
    "prefix = 'sagemaker/sentiment_rnn'\n",
    "\n",
    "role = sagemaker.get_execution_role()"
   ]
  },
  {
   "cell_type": "code",
   "execution_count": 106,
   "metadata": {},
   "outputs": [],
   "source": [
    "input_data = sagemaker_session.upload_data(path=data_dir, bucket=bucket, key_prefix=prefix)"
   ]
  },
  {
   "cell_type": "markdown",
   "metadata": {},
   "source": [
    "# Build and Train Pytorch Model"
   ]
  },
  {
   "cell_type": "code",
   "execution_count": 107,
   "metadata": {},
   "outputs": [
    {
     "name": "stdout",
     "output_type": "stream",
     "text": [
      "\u001b[34mimport\u001b[39;49;00m \u001b[04m\u001b[36mtorch.nn\u001b[39;49;00m \u001b[34mas\u001b[39;49;00m \u001b[04m\u001b[36mnn\u001b[39;49;00m\r\n",
      "\r\n",
      "\u001b[34mclass\u001b[39;49;00m \u001b[04m\u001b[32mLSTMClassifier\u001b[39;49;00m(nn.Module):\r\n",
      "    \u001b[33m\"\"\"\u001b[39;49;00m\r\n",
      "\u001b[33m    This is the simple RNN model we will be using to perform Sentiment Analysis.\u001b[39;49;00m\r\n",
      "\u001b[33m    \"\"\"\u001b[39;49;00m\r\n",
      "\r\n",
      "    \u001b[34mdef\u001b[39;49;00m \u001b[32m__init__\u001b[39;49;00m(\u001b[36mself\u001b[39;49;00m, embedding_dim, hidden_dim, vocab_size):\r\n",
      "        \u001b[33m\"\"\"\u001b[39;49;00m\r\n",
      "\u001b[33m        Initialize the model by settingg up the various layers.\u001b[39;49;00m\r\n",
      "\u001b[33m        \"\"\"\u001b[39;49;00m\r\n",
      "        \u001b[36msuper\u001b[39;49;00m(LSTMClassifier, \u001b[36mself\u001b[39;49;00m).\u001b[32m__init__\u001b[39;49;00m()\r\n",
      "\r\n",
      "        \u001b[36mself\u001b[39;49;00m.embedding = nn.Embedding(vocab_size, embedding_dim, padding_idx=\u001b[34m0\u001b[39;49;00m)\r\n",
      "        \u001b[36mself\u001b[39;49;00m.lstm = nn.LSTM(embedding_dim, hidden_dim)\r\n",
      "        \u001b[36mself\u001b[39;49;00m.dense = nn.Linear(in_features=hidden_dim, out_features=\u001b[34m14\u001b[39;49;00m)\r\n",
      "        \u001b[36mself\u001b[39;49;00m.sm = nn.Softmax(dim = \u001b[34m1\u001b[39;49;00m)\r\n",
      "        \r\n",
      "        \u001b[36mself\u001b[39;49;00m.word_dict = \u001b[36mNone\u001b[39;49;00m\r\n",
      "\r\n",
      "    \u001b[34mdef\u001b[39;49;00m \u001b[32mforward\u001b[39;49;00m(\u001b[36mself\u001b[39;49;00m, x):\r\n",
      "        \u001b[33m\"\"\"\u001b[39;49;00m\r\n",
      "\u001b[33m        Perform a forward pass of our model on some input.\u001b[39;49;00m\r\n",
      "\u001b[33m        \"\"\"\u001b[39;49;00m\r\n",
      "        x = x.t()\r\n",
      "        lengths = x[\u001b[34m0\u001b[39;49;00m,:]\r\n",
      "        text = x[\u001b[34m1\u001b[39;49;00m:,:]\r\n",
      "        embeds = \u001b[36mself\u001b[39;49;00m.embedding(text)\r\n",
      "        lstm_out, _ = \u001b[36mself\u001b[39;49;00m.lstm(embeds)\r\n",
      "        out = \u001b[36mself\u001b[39;49;00m.dense(lstm_out)\r\n",
      "        out = out[lengths - \u001b[34m1\u001b[39;49;00m, \u001b[36mrange\u001b[39;49;00m(\u001b[36mlen\u001b[39;49;00m(lengths))]\r\n",
      "        \u001b[34mreturn\u001b[39;49;00m \u001b[36mself\u001b[39;49;00m.sm(out.squeeze())\r\n"
     ]
    }
   ],
   "source": [
    "!pygmentize train/model_lstm.py"
   ]
  },
  {
   "cell_type": "code",
   "execution_count": 30,
   "metadata": {},
   "outputs": [],
   "source": [
    "import torch\n",
    "import torch.utils.data\n",
    "\n",
    "# Read in only the first 500 rows for testing\n",
    "train_sample = pd.read_csv(os.path.join(data_dir, 'lstm_train.csv'), header=None, names=None, nrows=500)\n",
    "\n",
    "# Turn the input pandas dataframe into tensors\n",
    "train_sample_y = torch.from_numpy(train_sample[[0]].values).long().squeeze()\n",
    "train_sample_X = torch.from_numpy(train_sample.drop([0], axis=1).values).long()\n",
    "\n",
    "# Build the dataset\n",
    "train_sample_ds = torch.utils.data.TensorDataset(train_sample_X, train_sample_y)\n",
    "# Build the dataloader\n",
    "train_sample_dl = torch.utils.data.DataLoader(train_sample_ds, batch_size=50)"
   ]
  },
  {
   "cell_type": "code",
   "execution_count": 31,
   "metadata": {},
   "outputs": [
    {
     "data": {
      "text/plain": [
       "array([[ 8],\n",
       "       [13],\n",
       "       [ 3],\n",
       "       [13],\n",
       "       [ 0],\n",
       "       [ 6],\n",
       "       [ 3],\n",
       "       [13],\n",
       "       [ 5],\n",
       "       [ 4],\n",
       "       [ 1],\n",
       "       [ 3],\n",
       "       [12],\n",
       "       [ 9],\n",
       "       [ 7],\n",
       "       [ 4],\n",
       "       [ 7],\n",
       "       [ 5],\n",
       "       [ 2],\n",
       "       [11],\n",
       "       [ 9],\n",
       "       [ 9],\n",
       "       [ 0],\n",
       "       [ 1],\n",
       "       [ 1],\n",
       "       [11],\n",
       "       [ 2],\n",
       "       [ 5],\n",
       "       [ 9],\n",
       "       [12],\n",
       "       [ 8],\n",
       "       [ 7],\n",
       "       [ 4],\n",
       "       [ 3],\n",
       "       [11],\n",
       "       [ 6],\n",
       "       [ 4],\n",
       "       [ 5],\n",
       "       [ 7],\n",
       "       [12],\n",
       "       [ 1],\n",
       "       [ 6],\n",
       "       [13],\n",
       "       [ 0],\n",
       "       [13],\n",
       "       [ 2],\n",
       "       [ 3],\n",
       "       [ 6],\n",
       "       [ 6],\n",
       "       [ 4],\n",
       "       [10],\n",
       "       [ 2],\n",
       "       [ 6],\n",
       "       [12],\n",
       "       [ 9],\n",
       "       [ 6],\n",
       "       [ 5],\n",
       "       [ 1],\n",
       "       [ 9],\n",
       "       [ 2],\n",
       "       [11],\n",
       "       [ 9],\n",
       "       [13],\n",
       "       [ 4],\n",
       "       [ 8],\n",
       "       [12],\n",
       "       [ 4],\n",
       "       [ 2],\n",
       "       [ 7],\n",
       "       [ 9],\n",
       "       [ 2],\n",
       "       [10],\n",
       "       [ 2],\n",
       "       [ 0],\n",
       "       [ 0],\n",
       "       [ 2],\n",
       "       [ 6],\n",
       "       [ 0],\n",
       "       [ 3],\n",
       "       [10],\n",
       "       [10],\n",
       "       [10],\n",
       "       [13],\n",
       "       [10],\n",
       "       [13],\n",
       "       [ 0],\n",
       "       [10],\n",
       "       [ 3],\n",
       "       [ 2],\n",
       "       [ 5],\n",
       "       [ 1],\n",
       "       [ 2],\n",
       "       [ 5],\n",
       "       [ 0],\n",
       "       [ 2],\n",
       "       [ 9],\n",
       "       [ 2],\n",
       "       [ 7],\n",
       "       [ 7],\n",
       "       [ 4],\n",
       "       [ 4],\n",
       "       [13],\n",
       "       [12],\n",
       "       [ 2],\n",
       "       [ 0],\n",
       "       [ 6],\n",
       "       [ 5],\n",
       "       [13],\n",
       "       [ 6],\n",
       "       [12],\n",
       "       [ 9],\n",
       "       [ 7],\n",
       "       [11],\n",
       "       [ 4],\n",
       "       [11],\n",
       "       [13],\n",
       "       [10],\n",
       "       [ 4],\n",
       "       [ 1],\n",
       "       [10],\n",
       "       [ 9],\n",
       "       [ 3],\n",
       "       [ 9],\n",
       "       [ 7],\n",
       "       [ 1],\n",
       "       [ 3],\n",
       "       [ 2],\n",
       "       [ 6],\n",
       "       [ 0],\n",
       "       [13],\n",
       "       [ 1],\n",
       "       [ 2],\n",
       "       [ 9],\n",
       "       [11],\n",
       "       [ 0],\n",
       "       [ 3],\n",
       "       [ 0],\n",
       "       [ 7],\n",
       "       [ 2],\n",
       "       [ 8],\n",
       "       [ 2],\n",
       "       [ 4],\n",
       "       [ 6],\n",
       "       [11],\n",
       "       [11],\n",
       "       [ 1],\n",
       "       [ 2],\n",
       "       [12],\n",
       "       [ 5],\n",
       "       [ 2],\n",
       "       [ 2],\n",
       "       [ 4],\n",
       "       [11],\n",
       "       [ 4],\n",
       "       [ 5],\n",
       "       [ 6],\n",
       "       [11],\n",
       "       [ 4],\n",
       "       [11],\n",
       "       [ 6],\n",
       "       [ 5],\n",
       "       [10],\n",
       "       [ 9],\n",
       "       [ 6],\n",
       "       [ 3],\n",
       "       [ 4],\n",
       "       [ 3],\n",
       "       [ 3],\n",
       "       [12],\n",
       "       [ 6],\n",
       "       [10],\n",
       "       [11],\n",
       "       [ 5],\n",
       "       [ 0],\n",
       "       [ 9],\n",
       "       [ 3],\n",
       "       [ 1],\n",
       "       [ 1],\n",
       "       [12],\n",
       "       [12],\n",
       "       [10],\n",
       "       [ 0],\n",
       "       [ 0],\n",
       "       [11],\n",
       "       [ 5],\n",
       "       [ 8],\n",
       "       [ 0],\n",
       "       [10],\n",
       "       [ 9],\n",
       "       [ 2],\n",
       "       [12],\n",
       "       [12],\n",
       "       [13],\n",
       "       [ 5],\n",
       "       [ 4],\n",
       "       [ 6],\n",
       "       [ 3],\n",
       "       [13],\n",
       "       [ 4],\n",
       "       [ 1],\n",
       "       [ 4],\n",
       "       [ 7],\n",
       "       [ 6],\n",
       "       [13],\n",
       "       [ 4],\n",
       "       [ 0],\n",
       "       [ 2],\n",
       "       [ 8],\n",
       "       [11],\n",
       "       [10],\n",
       "       [ 3],\n",
       "       [ 9],\n",
       "       [11],\n",
       "       [12],\n",
       "       [11],\n",
       "       [13],\n",
       "       [ 9],\n",
       "       [ 3],\n",
       "       [11],\n",
       "       [10],\n",
       "       [ 4],\n",
       "       [ 9],\n",
       "       [ 0],\n",
       "       [ 0],\n",
       "       [ 7],\n",
       "       [ 7],\n",
       "       [ 7],\n",
       "       [12],\n",
       "       [ 6],\n",
       "       [ 2],\n",
       "       [ 3],\n",
       "       [ 3],\n",
       "       [ 6],\n",
       "       [ 6],\n",
       "       [ 6],\n",
       "       [10],\n",
       "       [ 0],\n",
       "       [ 7],\n",
       "       [ 1],\n",
       "       [ 5],\n",
       "       [ 9],\n",
       "       [ 4],\n",
       "       [ 7],\n",
       "       [11],\n",
       "       [12],\n",
       "       [12],\n",
       "       [ 9],\n",
       "       [ 2],\n",
       "       [ 6],\n",
       "       [ 4],\n",
       "       [12],\n",
       "       [12],\n",
       "       [ 5],\n",
       "       [ 8],\n",
       "       [10],\n",
       "       [11],\n",
       "       [13],\n",
       "       [13],\n",
       "       [12],\n",
       "       [ 6],\n",
       "       [ 5],\n",
       "       [ 6],\n",
       "       [ 9],\n",
       "       [ 2],\n",
       "       [ 3],\n",
       "       [11],\n",
       "       [13],\n",
       "       [ 4],\n",
       "       [ 4],\n",
       "       [ 4],\n",
       "       [12],\n",
       "       [13],\n",
       "       [ 6],\n",
       "       [ 4],\n",
       "       [ 2],\n",
       "       [ 5],\n",
       "       [ 4],\n",
       "       [ 5],\n",
       "       [10],\n",
       "       [13],\n",
       "       [ 5],\n",
       "       [ 4],\n",
       "       [ 1],\n",
       "       [ 9],\n",
       "       [10],\n",
       "       [ 1],\n",
       "       [ 4],\n",
       "       [ 6],\n",
       "       [12],\n",
       "       [ 7],\n",
       "       [ 2],\n",
       "       [13],\n",
       "       [ 9],\n",
       "       [ 7],\n",
       "       [ 7],\n",
       "       [ 7],\n",
       "       [13],\n",
       "       [ 5],\n",
       "       [ 0],\n",
       "       [12],\n",
       "       [12],\n",
       "       [13],\n",
       "       [ 4],\n",
       "       [ 8],\n",
       "       [12],\n",
       "       [ 7],\n",
       "       [ 7],\n",
       "       [12],\n",
       "       [ 0],\n",
       "       [ 9],\n",
       "       [ 9],\n",
       "       [ 7],\n",
       "       [ 4],\n",
       "       [ 7],\n",
       "       [13],\n",
       "       [ 3],\n",
       "       [ 3],\n",
       "       [ 0],\n",
       "       [ 5],\n",
       "       [ 6],\n",
       "       [ 3],\n",
       "       [ 6],\n",
       "       [12],\n",
       "       [ 1],\n",
       "       [ 7],\n",
       "       [ 7],\n",
       "       [10],\n",
       "       [13],\n",
       "       [ 6],\n",
       "       [ 8],\n",
       "       [ 2],\n",
       "       [ 4],\n",
       "       [12],\n",
       "       [12],\n",
       "       [ 5],\n",
       "       [ 7],\n",
       "       [11],\n",
       "       [12],\n",
       "       [12],\n",
       "       [ 0],\n",
       "       [ 4],\n",
       "       [ 2],\n",
       "       [ 3],\n",
       "       [ 6],\n",
       "       [ 6],\n",
       "       [ 8],\n",
       "       [ 8],\n",
       "       [ 0],\n",
       "       [11],\n",
       "       [ 7],\n",
       "       [11],\n",
       "       [12],\n",
       "       [ 5],\n",
       "       [ 5],\n",
       "       [12],\n",
       "       [ 3],\n",
       "       [ 2],\n",
       "       [ 0],\n",
       "       [ 7],\n",
       "       [12],\n",
       "       [12],\n",
       "       [11],\n",
       "       [ 9],\n",
       "       [ 6],\n",
       "       [ 2],\n",
       "       [ 7],\n",
       "       [ 6],\n",
       "       [12],\n",
       "       [10],\n",
       "       [ 9],\n",
       "       [13],\n",
       "       [ 0],\n",
       "       [ 0],\n",
       "       [ 9],\n",
       "       [13],\n",
       "       [ 4],\n",
       "       [10],\n",
       "       [12],\n",
       "       [12],\n",
       "       [ 4],\n",
       "       [ 5],\n",
       "       [ 7],\n",
       "       [ 7],\n",
       "       [ 6],\n",
       "       [12],\n",
       "       [ 9],\n",
       "       [ 1],\n",
       "       [12],\n",
       "       [11],\n",
       "       [ 7],\n",
       "       [ 6],\n",
       "       [13],\n",
       "       [ 3],\n",
       "       [ 7],\n",
       "       [ 0],\n",
       "       [12],\n",
       "       [ 8],\n",
       "       [ 3],\n",
       "       [ 9],\n",
       "       [ 9],\n",
       "       [13],\n",
       "       [ 1],\n",
       "       [11],\n",
       "       [10],\n",
       "       [ 9],\n",
       "       [ 0],\n",
       "       [ 4],\n",
       "       [10],\n",
       "       [ 5],\n",
       "       [ 7],\n",
       "       [ 2],\n",
       "       [ 4],\n",
       "       [ 8],\n",
       "       [ 2],\n",
       "       [ 6],\n",
       "       [ 7],\n",
       "       [ 0],\n",
       "       [ 6],\n",
       "       [13],\n",
       "       [ 0],\n",
       "       [ 0],\n",
       "       [ 6],\n",
       "       [ 4],\n",
       "       [ 9],\n",
       "       [11],\n",
       "       [ 3],\n",
       "       [12],\n",
       "       [11],\n",
       "       [ 1],\n",
       "       [ 7],\n",
       "       [ 7],\n",
       "       [ 5],\n",
       "       [ 8],\n",
       "       [11],\n",
       "       [ 5],\n",
       "       [ 7],\n",
       "       [ 9],\n",
       "       [ 4],\n",
       "       [ 2],\n",
       "       [ 1],\n",
       "       [12],\n",
       "       [ 9],\n",
       "       [11],\n",
       "       [ 0],\n",
       "       [ 5],\n",
       "       [12],\n",
       "       [ 3],\n",
       "       [ 3],\n",
       "       [11],\n",
       "       [10],\n",
       "       [ 4],\n",
       "       [ 0],\n",
       "       [11],\n",
       "       [ 9],\n",
       "       [ 8],\n",
       "       [ 4],\n",
       "       [ 0],\n",
       "       [ 7],\n",
       "       [ 0],\n",
       "       [12],\n",
       "       [ 2],\n",
       "       [ 0],\n",
       "       [12],\n",
       "       [12],\n",
       "       [ 7],\n",
       "       [12],\n",
       "       [13],\n",
       "       [ 5],\n",
       "       [11],\n",
       "       [10],\n",
       "       [12],\n",
       "       [11],\n",
       "       [ 7],\n",
       "       [ 4],\n",
       "       [ 7],\n",
       "       [ 7],\n",
       "       [13],\n",
       "       [ 2],\n",
       "       [ 0],\n",
       "       [ 0],\n",
       "       [ 1],\n",
       "       [13],\n",
       "       [10],\n",
       "       [12],\n",
       "       [ 7],\n",
       "       [12],\n",
       "       [ 7],\n",
       "       [ 3],\n",
       "       [ 8],\n",
       "       [ 7],\n",
       "       [ 9],\n",
       "       [ 6],\n",
       "       [ 2],\n",
       "       [ 5],\n",
       "       [ 5],\n",
       "       [13],\n",
       "       [ 8],\n",
       "       [ 6],\n",
       "       [12],\n",
       "       [ 8]])"
      ]
     },
     "execution_count": 31,
     "metadata": {},
     "output_type": "execute_result"
    }
   ],
   "source": [
    "train_sample[[0]].values"
   ]
  },
  {
   "cell_type": "code",
   "execution_count": 32,
   "metadata": {},
   "outputs": [],
   "source": [
    "def train(model, train_loader, epochs, optimizer, loss_fn, device):\n",
    "    for epoch in range(1, epochs + 1):\n",
    "        model.train()\n",
    "        total_loss = 0\n",
    "        for batch in train_loader:         \n",
    "            batch_X, batch_y = batch\n",
    "            \n",
    "            batch_X = batch_X.to(device)\n",
    "            batch_y = batch_y.to(device)\n",
    "            \n",
    "            # TODO: Complete this train method to train the model provided.\n",
    "            optimizer.zero_grad()\n",
    "            output = model(batch_X)\n",
    "            loss = loss_fn(output, batch_y)\n",
    "            loss.backward()\n",
    "            optimizer.step()\n",
    "            \n",
    "            total_loss += loss.data.item()\n",
    "        print(\"Epoch: {}, Cross Entropy Loss: {}\".format(epoch, total_loss / len(train_loader)))"
   ]
  },
  {
   "cell_type": "code",
   "execution_count": 33,
   "metadata": {},
   "outputs": [
    {
     "name": "stdout",
     "output_type": "stream",
     "text": [
      "Epoch: 1, Cross Entropy Loss: 2.6392315864562987\n",
      "Epoch: 2, Cross Entropy Loss: 2.634082627296448\n",
      "Epoch: 3, Cross Entropy Loss: 2.6289652824401855\n",
      "Epoch: 4, Cross Entropy Loss: 2.6221601009368896\n",
      "Epoch: 5, Cross Entropy Loss: 2.6114129304885862\n"
     ]
    }
   ],
   "source": [
    "import torch.optim as optim\n",
    "from train.model_lstm import LSTMClassifier\n",
    "\n",
    "device = torch.device(\"cuda\" if torch.cuda.is_available() else \"cpu\")\n",
    "model = LSTMClassifier(100, 100, 50000).to(device)\n",
    "optimizer = optim.Adam(model.parameters())\n",
    "loss_fn = torch.nn.CrossEntropyLoss()\n",
    "\n",
    "train(model, train_sample_dl, 5, optimizer, loss_fn, device)"
   ]
  },
  {
   "cell_type": "code",
   "execution_count": 34,
   "metadata": {},
   "outputs": [
    {
     "name": "stdout",
     "output_type": "stream",
     "text": [
      "torch.Size([50, 14])\n",
      "torch.Size([50, 14])\n",
      "torch.Size([50, 14])\n",
      "torch.Size([50, 14])\n",
      "torch.Size([50, 14])\n",
      "torch.Size([50, 14])\n",
      "torch.Size([50, 14])\n",
      "torch.Size([50, 14])\n",
      "torch.Size([50, 14])\n",
      "torch.Size([50, 14])\n"
     ]
    }
   ],
   "source": [
    "device = torch.device(\"cuda\" if torch.cuda.is_available() else \"cpu\")\n",
    "\n",
    "for bt in train_sample_dl:\n",
    "    bX, bY = bt\n",
    "    \n",
    "    bX = bX.to(device)\n",
    "    bY = bY.to(device)\n",
    "    \n",
    "    model = LSTMClassifier(100, 100, 50000).to(device)\n",
    "    optimizer.zero_grad()\n",
    "    output = model(bX)\n",
    "    print(output.shape)"
   ]
  },
  {
   "cell_type": "markdown",
   "metadata": {},
   "source": [
    "# Now do it on the full training dataset!"
   ]
  },
  {
   "cell_type": "code",
   "execution_count": 137,
   "metadata": {},
   "outputs": [],
   "source": [
    "estimator = PyTorch(entry_point=\"train_lstm.py\",\n",
    "                    source_dir=\"train\",\n",
    "                    role=role,\n",
    "                    framework_version='0.4.0',\n",
    "                    train_instance_count=1,\n",
    "                    train_instance_type='ml.p2.xlarge',\n",
    "                    hyperparameters={\n",
    "                        'epochs': 10,\n",
    "                        'hidden_dim': 200,\n",
    "                    })"
   ]
  },
  {
   "cell_type": "code",
   "execution_count": 138,
   "metadata": {},
   "outputs": [
    {
     "name": "stdout",
     "output_type": "stream",
     "text": [
      "2020-04-06 05:43:02 Starting - Starting the training job...\n",
      "2020-04-06 05:43:04 Starting - Launching requested ML instances......\n",
      "2020-04-06 05:44:05 Starting - Preparing the instances for training......\n",
      "2020-04-06 05:45:20 Downloading - Downloading input data...\n",
      "2020-04-06 05:45:56 Training - Downloading the training image...\n",
      "2020-04-06 05:46:27 Training - Training image download completed. Training in progress.\u001b[34mbash: cannot set terminal process group (-1): Inappropriate ioctl for device\u001b[0m\n",
      "\u001b[34mbash: no job control in this shell\u001b[0m\n",
      "\u001b[34m2020-04-06 05:46:26,812 sagemaker-containers INFO     Imported framework sagemaker_pytorch_container.training\u001b[0m\n",
      "\u001b[34m2020-04-06 05:46:26,836 sagemaker_pytorch_container.training INFO     Block until all host DNS lookups succeed.\u001b[0m\n",
      "\u001b[34m2020-04-06 05:46:29,890 sagemaker_pytorch_container.training INFO     Invoking user training script.\u001b[0m\n",
      "\u001b[34m2020-04-06 05:46:30,171 sagemaker-containers INFO     Module train_lstm does not provide a setup.py. \u001b[0m\n",
      "\u001b[34mGenerating setup.py\u001b[0m\n",
      "\u001b[34m2020-04-06 05:46:30,171 sagemaker-containers INFO     Generating setup.cfg\u001b[0m\n",
      "\u001b[34m2020-04-06 05:46:30,172 sagemaker-containers INFO     Generating MANIFEST.in\u001b[0m\n",
      "\u001b[34m2020-04-06 05:46:30,172 sagemaker-containers INFO     Installing module with the following command:\u001b[0m\n",
      "\u001b[34m/usr/bin/python -m pip install -U . -r requirements.txt\u001b[0m\n",
      "\u001b[34mProcessing /opt/ml/code\u001b[0m\n",
      "\u001b[34mCollecting pandas (from -r requirements.txt (line 1))\n",
      "  Downloading https://files.pythonhosted.org/packages/74/24/0cdbf8907e1e3bc5a8da03345c23cbed7044330bb8f73bb12e711a640a00/pandas-0.24.2-cp35-cp35m-manylinux1_x86_64.whl (10.0MB)\u001b[0m\n",
      "\u001b[34mCollecting numpy (from -r requirements.txt (line 2))\u001b[0m\n",
      "\u001b[34m  Downloading https://files.pythonhosted.org/packages/ff/18/c0b937e2f84095ae230196899e56d1d7d76c8e8424fb235ed7e5bb6d68af/numpy-1.18.2-cp35-cp35m-manylinux1_x86_64.whl (20.0MB)\u001b[0m\n",
      "\u001b[34mCollecting nltk (from -r requirements.txt (line 3))\n",
      "  Downloading https://files.pythonhosted.org/packages/f6/1d/d925cfb4f324ede997f6d47bea4d9babba51b49e87a767c170b77005889d/nltk-3.4.5.zip (1.5MB)\u001b[0m\n",
      "\u001b[34mCollecting beautifulsoup4 (from -r requirements.txt (line 4))\n",
      "  Downloading https://files.pythonhosted.org/packages/e8/b5/7bb03a696f2c9b7af792a8f51b82974e51c268f15e925fc834876a4efa0b/beautifulsoup4-4.9.0-py3-none-any.whl (109kB)\u001b[0m\n",
      "\u001b[34mCollecting html5lib (from -r requirements.txt (line 5))\n",
      "  Downloading https://files.pythonhosted.org/packages/a5/62/bbd2be0e7943ec8504b517e62bab011b4946e1258842bc159e5dfde15b96/html5lib-1.0.1-py2.py3-none-any.whl (117kB)\u001b[0m\n",
      "\u001b[34mRequirement already satisfied, skipping upgrade: python-dateutil>=2.5.0 in /usr/local/lib/python3.5/dist-packages (from pandas->-r requirements.txt (line 1)) (2.7.5)\u001b[0m\n",
      "\u001b[34mCollecting pytz>=2011k (from pandas->-r requirements.txt (line 1))\n",
      "  Downloading https://files.pythonhosted.org/packages/e7/f9/f0b53f88060247251bf481fa6ea62cd0d25bf1b11a87888e53ce5b7c8ad2/pytz-2019.3-py2.py3-none-any.whl (509kB)\u001b[0m\n",
      "\u001b[34mRequirement already satisfied, skipping upgrade: six in /usr/local/lib/python3.5/dist-packages (from nltk->-r requirements.txt (line 3)) (1.11.0)\u001b[0m\n",
      "\u001b[34mCollecting soupsieve>1.2 (from beautifulsoup4->-r requirements.txt (line 4))\n",
      "  Downloading https://files.pythonhosted.org/packages/05/cf/ea245e52f55823f19992447b008bcbb7f78efc5960d77f6c34b5b45b36dd/soupsieve-2.0-py2.py3-none-any.whl\u001b[0m\n",
      "\u001b[34mCollecting webencodings (from html5lib->-r requirements.txt (line 5))\n",
      "  Downloading https://files.pythonhosted.org/packages/f4/24/2a3e3df732393fed8b3ebf2ec078f05546de641fe1b667ee316ec1dcf3b7/webencodings-0.5.1-py2.py3-none-any.whl\u001b[0m\n",
      "\u001b[34mBuilding wheels for collected packages: nltk, train-lstm\n",
      "  Running setup.py bdist_wheel for nltk: started\u001b[0m\n",
      "\u001b[34m  Running setup.py bdist_wheel for nltk: finished with status 'done'\n",
      "  Stored in directory: /root/.cache/pip/wheels/96/86/f6/68ab24c23f207c0077381a5e3904b2815136b879538a24b483\n",
      "  Running setup.py bdist_wheel for train-lstm: started\u001b[0m\n",
      "\u001b[34m  Running setup.py bdist_wheel for train-lstm: finished with status 'done'\n",
      "  Stored in directory: /tmp/pip-ephem-wheel-cache-vx_5141t/wheels/35/24/16/37574d11bf9bde50616c67372a334f94fa8356bc7164af8ca3\u001b[0m\n",
      "\u001b[34mSuccessfully built nltk train-lstm\u001b[0m\n",
      "\u001b[34mInstalling collected packages: pytz, numpy, pandas, nltk, soupsieve, beautifulsoup4, webencodings, html5lib, train-lstm\n",
      "  Found existing installation: numpy 1.15.4\n",
      "    Uninstalling numpy-1.15.4:\u001b[0m\n",
      "\u001b[34m      Successfully uninstalled numpy-1.15.4\u001b[0m\n",
      "\u001b[34mSuccessfully installed beautifulsoup4-4.9.0 html5lib-1.0.1 nltk-3.4.5 numpy-1.18.2 pandas-0.24.2 pytz-2019.3 soupsieve-2.0 train-lstm-1.0.0 webencodings-0.5.1\u001b[0m\n",
      "\u001b[34mYou are using pip version 18.1, however version 20.0.2 is available.\u001b[0m\n",
      "\u001b[34mYou should consider upgrading via the 'pip install --upgrade pip' command.\u001b[0m\n",
      "\u001b[34m2020-04-06 05:46:42,460 sagemaker-containers INFO     Invoking user script\n",
      "\u001b[0m\n",
      "\u001b[34mTraining Env:\n",
      "\u001b[0m\n",
      "\u001b[34m{\n",
      "    \"output_intermediate_dir\": \"/opt/ml/output/intermediate\",\n",
      "    \"module_name\": \"train_lstm\",\n",
      "    \"input_data_config\": {\n",
      "        \"training\": {\n",
      "            \"S3DistributionType\": \"FullyReplicated\",\n",
      "            \"TrainingInputMode\": \"File\",\n",
      "            \"RecordWrapperType\": \"None\"\n",
      "        }\n",
      "    },\n",
      "    \"hosts\": [\n",
      "        \"algo-1\"\n",
      "    ],\n",
      "    \"output_dir\": \"/opt/ml/output\",\n",
      "    \"resource_config\": {\n",
      "        \"hosts\": [\n",
      "            \"algo-1\"\n",
      "        ],\n",
      "        \"network_interface_name\": \"eth0\",\n",
      "        \"current_host\": \"algo-1\"\n",
      "    },\n",
      "    \"user_entry_point\": \"train_lstm.py\",\n",
      "    \"channel_input_dirs\": {\n",
      "        \"training\": \"/opt/ml/input/data/training\"\n",
      "    },\n",
      "    \"input_config_dir\": \"/opt/ml/input/config\",\n",
      "    \"log_level\": 20,\n",
      "    \"output_data_dir\": \"/opt/ml/output/data\",\n",
      "    \"module_dir\": \"s3://sagemaker-us-west-2-496641494145/sagemaker-pytorch-2020-04-06-05-43-02-091/source/sourcedir.tar.gz\",\n",
      "    \"num_cpus\": 4,\n",
      "    \"model_dir\": \"/opt/ml/model\",\n",
      "    \"input_dir\": \"/opt/ml/input\",\n",
      "    \"num_gpus\": 1,\n",
      "    \"network_interface_name\": \"eth0\",\n",
      "    \"additional_framework_parameters\": {},\n",
      "    \"current_host\": \"algo-1\",\n",
      "    \"framework_module\": \"sagemaker_pytorch_container.training:main\",\n",
      "    \"hyperparameters\": {\n",
      "        \"epochs\": 10,\n",
      "        \"hidden_dim\": 200\n",
      "    },\n",
      "    \"job_name\": \"sagemaker-pytorch-2020-04-06-05-43-02-091\"\u001b[0m\n",
      "\u001b[34m}\n",
      "\u001b[0m\n",
      "\u001b[34mEnvironment variables:\n",
      "\u001b[0m\n",
      "\u001b[34mSM_HP_EPOCHS=10\u001b[0m\n",
      "\u001b[34mSM_USER_ARGS=[\"--epochs\",\"10\",\"--hidden_dim\",\"200\"]\u001b[0m\n",
      "\u001b[34mSM_FRAMEWORK_PARAMS={}\u001b[0m\n",
      "\u001b[34mSM_OUTPUT_INTERMEDIATE_DIR=/opt/ml/output/intermediate\u001b[0m\n",
      "\u001b[34mSM_HPS={\"epochs\":10,\"hidden_dim\":200}\u001b[0m\n",
      "\u001b[34mSM_FRAMEWORK_MODULE=sagemaker_pytorch_container.training:main\u001b[0m\n",
      "\u001b[34mSM_INPUT_DATA_CONFIG={\"training\":{\"RecordWrapperType\":\"None\",\"S3DistributionType\":\"FullyReplicated\",\"TrainingInputMode\":\"File\"}}\u001b[0m\n",
      "\u001b[34mSM_MODULE_NAME=train_lstm\u001b[0m\n",
      "\u001b[34mSM_INPUT_DIR=/opt/ml/input\u001b[0m\n",
      "\u001b[34mSM_INPUT_CONFIG_DIR=/opt/ml/input/config\u001b[0m\n",
      "\u001b[34mSM_NUM_CPUS=4\u001b[0m\n",
      "\u001b[34mSM_CHANNELS=[\"training\"]\u001b[0m\n",
      "\u001b[34mSM_USER_ENTRY_POINT=train_lstm.py\u001b[0m\n",
      "\u001b[34mSM_OUTPUT_DATA_DIR=/opt/ml/output/data\u001b[0m\n",
      "\u001b[34mSM_HP_HIDDEN_DIM=200\u001b[0m\n",
      "\u001b[34mSM_NUM_GPUS=1\u001b[0m\n",
      "\u001b[34mSM_MODULE_DIR=s3://sagemaker-us-west-2-496641494145/sagemaker-pytorch-2020-04-06-05-43-02-091/source/sourcedir.tar.gz\u001b[0m\n",
      "\u001b[34mSM_LOG_LEVEL=20\u001b[0m\n",
      "\u001b[34mSM_CHANNEL_TRAINING=/opt/ml/input/data/training\u001b[0m\n",
      "\u001b[34mSM_OUTPUT_DIR=/opt/ml/output\u001b[0m\n",
      "\u001b[34mSM_HOSTS=[\"algo-1\"]\u001b[0m\n",
      "\u001b[34mSM_CURRENT_HOST=algo-1\u001b[0m\n",
      "\u001b[34mSM_MODEL_DIR=/opt/ml/model\u001b[0m\n",
      "\u001b[34mSM_RESOURCE_CONFIG={\"current_host\":\"algo-1\",\"hosts\":[\"algo-1\"],\"network_interface_name\":\"eth0\"}\u001b[0m\n",
      "\u001b[34mSM_TRAINING_ENV={\"additional_framework_parameters\":{},\"channel_input_dirs\":{\"training\":\"/opt/ml/input/data/training\"},\"current_host\":\"algo-1\",\"framework_module\":\"sagemaker_pytorch_container.training:main\",\"hosts\":[\"algo-1\"],\"hyperparameters\":{\"epochs\":10,\"hidden_dim\":200},\"input_config_dir\":\"/opt/ml/input/config\",\"input_data_config\":{\"training\":{\"RecordWrapperType\":\"None\",\"S3DistributionType\":\"FullyReplicated\",\"TrainingInputMode\":\"File\"}},\"input_dir\":\"/opt/ml/input\",\"job_name\":\"sagemaker-pytorch-2020-04-06-05-43-02-091\",\"log_level\":20,\"model_dir\":\"/opt/ml/model\",\"module_dir\":\"s3://sagemaker-us-west-2-496641494145/sagemaker-pytorch-2020-04-06-05-43-02-091/source/sourcedir.tar.gz\",\"module_name\":\"train_lstm\",\"network_interface_name\":\"eth0\",\"num_cpus\":4,\"num_gpus\":1,\"output_data_dir\":\"/opt/ml/output/data\",\"output_dir\":\"/opt/ml/output\",\"output_intermediate_dir\":\"/opt/ml/output/intermediate\",\"resource_config\":{\"current_host\":\"algo-1\",\"hosts\":[\"algo-1\"],\"network_interface_name\":\"eth0\"},\"user_entry_point\":\"train_lstm.py\"}\u001b[0m\n",
      "\u001b[34mPYTHONPATH=/usr/local/bin:/usr/lib/python35.zip:/usr/lib/python3.5:/usr/lib/python3.5/plat-x86_64-linux-gnu:/usr/lib/python3.5/lib-dynload:/usr/local/lib/python3.5/dist-packages:/usr/lib/python3/dist-packages\u001b[0m\n",
      "\u001b[34mSM_NETWORK_INTERFACE_NAME=eth0\n",
      "\u001b[0m\n",
      "\u001b[34mInvoking script with the following command:\n",
      "\u001b[0m\n",
      "\u001b[34m/usr/bin/python -m train_lstm --epochs 10 --hidden_dim 200\n",
      "\n",
      "\u001b[0m\n",
      "\u001b[34mUsing device cuda.\u001b[0m\n",
      "\u001b[34mGet train data loader.\u001b[0m\n",
      "\n",
      "2020-04-06 05:46:59 Uploading - Uploading generated training model\n",
      "2020-04-06 05:46:59 Completed - Training job completed\n",
      "\u001b[34mModel loaded with embedding_dim 32, hidden_dim 200, vocab_size 50000.\u001b[0m\n",
      "\u001b[34mEpoch: 1, Cross Entropy Loss: 2.6387054920196533\u001b[0m\n",
      "\u001b[34mEpoch: 2, Cross Entropy Loss: 2.637752890586853\u001b[0m\n",
      "\u001b[34mEpoch: 3, Cross Entropy Loss: 2.6368043422698975\u001b[0m\n",
      "\u001b[34mEpoch: 4, Cross Entropy Loss: 2.6357632875442505\u001b[0m\n",
      "\u001b[34mEpoch: 5, Cross Entropy Loss: 2.6345385313034058\u001b[0m\n",
      "\u001b[34mEpoch: 6, Cross Entropy Loss: 2.6329457759857178\u001b[0m\n",
      "\u001b[34mEpoch: 7, Cross Entropy Loss: 2.6304787397384644\u001b[0m\n",
      "\u001b[34mEpoch: 8, Cross Entropy Loss: 2.6252905130386353\u001b[0m\n",
      "\u001b[34mEpoch: 9, Cross Entropy Loss: 2.618036389350891\u001b[0m\n",
      "\u001b[34mEpoch: 10, Cross Entropy Loss: 2.617248773574829\u001b[0m\n",
      "\u001b[34m2020-04-06 05:46:50,137 sagemaker-containers INFO     Reporting training SUCCESS\u001b[0m\n",
      "Training seconds: 99\n",
      "Billable seconds: 99\n"
     ]
    }
   ],
   "source": [
    "estimator.fit({'training': input_data})"
   ]
  },
  {
   "cell_type": "code",
   "execution_count": 139,
   "metadata": {},
   "outputs": [
    {
     "name": "stdout",
     "output_type": "stream",
     "text": [
      "-------------!"
     ]
    }
   ],
   "source": [
    "# TODO: Deploy the trained model\n",
    "predictor = estimator.deploy(initial_instance_count=1, instance_type='ml.m4.xlarge')"
   ]
  },
  {
   "cell_type": "code",
   "execution_count": 140,
   "metadata": {},
   "outputs": [],
   "source": [
    "# Evaluate on Dev Dataset"
   ]
  },
  {
   "cell_type": "code",
   "execution_count": 141,
   "metadata": {},
   "outputs": [],
   "source": [
    "dev_X = pd.concat([pd.DataFrame(dev_X_len), pd.DataFrame(dev_X_num)], axis=1)"
   ]
  },
  {
   "cell_type": "code",
   "execution_count": 142,
   "metadata": {},
   "outputs": [],
   "source": [
    "# We split the data into chunks and send each chunk seperately, accumulating the results.\n",
    "\n",
    "def predict(data, rows=512):\n",
    "    split_array = np.array_split(data, int(data.shape[0] / float(rows) + 1))\n",
    "    predictions = np.array([])\n",
    "    for array in split_array:\n",
    "        predictions = np.append(predictions, predictor.predict(array))\n",
    "    \n",
    "    return predictions"
   ]
  },
  {
   "cell_type": "code",
   "execution_count": 143,
   "metadata": {},
   "outputs": [],
   "source": [
    "predictions = predict(dev_X.values)\n",
    "predictions_reshape = predictions.reshape((int(predictions.shape[0]/14), 14))\n",
    "pred_vals = np.argmax(predictions_reshape, axis=1)"
   ]
  },
  {
   "cell_type": "code",
   "execution_count": 145,
   "metadata": {},
   "outputs": [
    {
     "name": "stdout",
     "output_type": "stream",
     "text": [
      "Accuracy: 0.09500500611858939\n",
      "F1: 0.09500500611858939\n"
     ]
    }
   ],
   "source": [
    "from sklearn.metrics import accuracy_score\n",
    "from sklearn.metrics import f1_score\n",
    "print('Accuracy:', accuracy_score(dev_y, pred_vals))\n",
    "print('F1:', f1_score(dev_y, pred_vals, average = 'micro'))"
   ]
  },
  {
   "cell_type": "markdown",
   "metadata": {},
   "source": [
    "# Don't Forget to Delete!!!"
   ]
  },
  {
   "cell_type": "code",
   "execution_count": 146,
   "metadata": {},
   "outputs": [],
   "source": [
    "predictor.delete_endpoint()"
   ]
  },
  {
   "cell_type": "code",
   "execution_count": null,
   "metadata": {},
   "outputs": [],
   "source": []
  }
 ],
 "metadata": {
  "kernelspec": {
   "display_name": "Python 3",
   "language": "python",
   "name": "python3"
  },
  "language_info": {
   "codemirror_mode": {
    "name": "ipython",
    "version": 3
   },
   "file_extension": ".py",
   "mimetype": "text/x-python",
   "name": "python",
   "nbconvert_exporter": "python",
   "pygments_lexer": "ipython3",
   "version": "3.6.8"
  }
 },
 "nbformat": 4,
 "nbformat_minor": 4
}
